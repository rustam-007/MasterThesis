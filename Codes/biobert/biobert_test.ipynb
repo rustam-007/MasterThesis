{
 "cells": [
  {
   "cell_type": "code",
   "execution_count": 1,
   "metadata": {},
   "outputs": [],
   "source": [
    "import pandas as pd\n",
    "import torch\n",
    "from torch.nn import CrossEntropyLoss\n",
    "from torch.utils.data import Dataset\n",
    "from transformers import BertTokenizer, BertForSequenceClassification\n",
    "from transformers import AutoTokenizer, AutoModelForSequenceClassification\n",
    "from transformers import Trainer, TrainingArguments\n",
    "from sklearn.model_selection import train_test_split\n",
    "from sklearn.metrics import classification_report\n",
    "from sklearn.model_selection import StratifiedKFold\n",
    "from sklearn.metrics import accuracy_score, precision_recall_fscore_support\n",
    "%matplotlib inline\n",
    "from matplotlib import pyplot as plt\n",
    "import seaborn as sns\n",
    "from sklearn.metrics import confusion_matrix"
   ]
  },
  {
   "cell_type": "code",
   "execution_count": 3,
   "metadata": {
    "scrolled": true
   },
   "outputs": [
    {
     "data": {
      "application/vnd.jupyter.widget-view+json": {
       "model_id": "b7c1d2f10c6548779ab577a6e046ec98",
       "version_major": 2,
       "version_minor": 0
      },
      "text/plain": [
       "Downloading (…)okenizer_config.json:   0%|          | 0.00/49.0 [00:00<?, ?B/s]"
      ]
     },
     "metadata": {},
     "output_type": "display_data"
    },
    {
     "data": {
      "application/vnd.jupyter.widget-view+json": {
       "model_id": "a4c7c52ce1ef4f99be491e3cfd744fd7",
       "version_major": 2,
       "version_minor": 0
      },
      "text/plain": [
       "Downloading (…)lve/main/config.json:   0%|          | 0.00/462 [00:00<?, ?B/s]"
      ]
     },
     "metadata": {},
     "output_type": "display_data"
    },
    {
     "data": {
      "application/vnd.jupyter.widget-view+json": {
       "model_id": "00460e2c080a4315a8c8e1d065d08991",
       "version_major": 2,
       "version_minor": 0
      },
      "text/plain": [
       "Downloading (…)solve/main/vocab.txt:   0%|          | 0.00/213k [00:00<?, ?B/s]"
      ]
     },
     "metadata": {},
     "output_type": "display_data"
    },
    {
     "data": {
      "application/vnd.jupyter.widget-view+json": {
       "model_id": "f73129f22887495fa77f868e42c8973c",
       "version_major": 2,
       "version_minor": 0
      },
      "text/plain": [
       "Downloading (…)cial_tokens_map.json:   0%|          | 0.00/112 [00:00<?, ?B/s]"
      ]
     },
     "metadata": {},
     "output_type": "display_data"
    },
    {
     "data": {
      "text/html": [
       "\n",
       "    <div>\n",
       "      \n",
       "      <progress value='535' max='535' style='width:300px; height:20px; vertical-align: middle;'></progress>\n",
       "      [535/535 11:13]\n",
       "    </div>\n",
       "    "
      ],
      "text/plain": [
       "<IPython.core.display.HTML object>"
      ]
     },
     "metadata": {},
     "output_type": "display_data"
    },
    {
     "name": "stdout",
     "output_type": "stream",
     "text": [
      "              precision    recall  f1-score   support\n",
      "\n",
      "           0       0.98      0.98      0.98       204\n",
      "           1       0.98      0.98      0.98       755\n",
      "           2       0.97      0.98      0.98       686\n",
      "           3       0.99      0.98      0.98       374\n",
      "           4       0.98      0.98      0.98      1133\n",
      "           5       0.98      0.96      0.97       250\n",
      "           6       0.98      0.98      0.98       876\n",
      "\n",
      "    accuracy                           0.98      4278\n",
      "   macro avg       0.98      0.98      0.98      4278\n",
      "weighted avg       0.98      0.98      0.98      4278\n",
      "\n"
     ]
    }
   ],
   "source": [
    "class AbstractDataset(Dataset):\n",
    "    def __init__(self, df, tokenizer, max_length):\n",
    "        self.df = df\n",
    "        self.tokenizer = tokenizer\n",
    "        self.max_length = max_length\n",
    "\n",
    "    def __len__(self):\n",
    "        return len(self.df)\n",
    "\n",
    "    def __getitem__(self, idx):\n",
    "        abstract = self.df.iloc[idx][\"text_lg\"]\n",
    "        topic = self.df.iloc[idx][\"topic_int\"]\n",
    "        encoding = self.tokenizer.encode_plus(\n",
    "            abstract,\n",
    "            add_special_tokens=True,\n",
    "            max_length=self.max_length,\n",
    "            padding=\"max_length\",\n",
    "            truncation=True,\n",
    "            return_token_type_ids=False,\n",
    "            return_attention_mask=True,\n",
    "            return_tensors=\"pt\",\n",
    "        )\n",
    "\n",
    "        return {\n",
    "            \"input_ids\": encoding[\"input_ids\"].flatten(),\n",
    "            \"attention_mask\": encoding[\"attention_mask\"].flatten(),\n",
    "            \"labels\": torch.tensor(topic, dtype=torch.long),\n",
    "        }\n",
    "\n",
    "test_df = pd.read_csv(\"test_biobert.csv\")\n",
    "\n",
    "# Load the best model after training\n",
    "model = AutoModelForSequenceClassification.from_pretrained(\"biobert_model\")\n",
    "\n",
    "# Initialize the tokenizer\n",
    "tokenizer = AutoTokenizer.from_pretrained(\"dmis-lab/biobert-v1.1\")\n",
    "\n",
    "# Create the test dataset\n",
    "test_dataset = AbstractDataset(\n",
    "    df=test_df,\n",
    "    tokenizer=tokenizer,\n",
    "    max_length=512,\n",
    ")\n",
    "\n",
    "# Create the Trainer object\n",
    "training_args = TrainingArguments(\n",
    "    output_dir='./results',  # output directory\n",
    "    per_device_eval_batch_size=8,  # batch size for evaluation\n",
    ")\n",
    "trainer = Trainer(\n",
    "    model=model,\n",
    "    args=training_args,\n",
    "    eval_dataset=test_dataset,\n",
    ")\n",
    "\n",
    "# Evaluate the model on the test dataset\n",
    "eval_results = trainer.evaluate()\n",
    "\n",
    "# In[ ]:\n",
    "\n",
    "def get_predictions(model, tokenizer, dataset):\n",
    "    predictions = []\n",
    "    for item in dataset:\n",
    "        input_ids = item[\"input_ids\"].unsqueeze(0).to(model.device)\n",
    "        attention_mask = item[\"attention_mask\"].unsqueeze(0).to(model.device)\n",
    "        outputs = model(input_ids=input_ids, attention_mask=attention_mask)\n",
    "        logits = outputs.logits\n",
    "        predicted_label = logits.argmax(dim=1).item()\n",
    "        predictions.append(predicted_label)\n",
    "    return predictions\n",
    "\n",
    "\n",
    "y_true = test_df[\"topic_int\"].tolist()\n",
    "y_pred = get_predictions(model, tokenizer, test_dataset)\n",
    "\n",
    "print(classification_report(y_true, y_pred))\n",
    "\n"
   ]
  },
  {
   "cell_type": "code",
   "execution_count": null,
   "metadata": {},
   "outputs": [],
   "source": [
    "0 -> Epidemic Forecasting\n",
    "1 -> Diagnosis\n",
    "2 -> Case Report\n",
    "3 -> Mechanism\n",
    "4 -> Prevention\n",
    "5 -> Long Covid\n",
    "6 -> Treatment"
   ]
  },
  {
   "cell_type": "code",
   "execution_count": 10,
   "metadata": {},
   "outputs": [],
   "source": [
    "mapping = {0: 1, 1: 6, 2: 0, 3: 3, 4: 5, 5: 2, 6: 4}\n",
    "\n",
    "y_true_mapped = [mapping[val] for val in y_true]\n",
    "y_pred_mapped = [mapping[val] for val in y_pred]"
   ]
  },
  {
   "cell_type": "code",
   "execution_count": 12,
   "metadata": {},
   "outputs": [
    {
     "name": "stdout",
     "output_type": "stream",
     "text": [
      "BioBERT Confusion Matrix:\n"
     ]
    },
    {
     "data": {
      "image/png": "[encoded data removed]",
      "text/plain": [
       "<Figure size 432x288 with 2 Axes>"
      ]
     },
     "metadata": {
      "needs_background": "light"
     },
     "output_type": "display_data"
    }
   ],
   "source": [
    "cm_bert = confusion_matrix(y_true_mapped, y_pred_mapped)\n",
    "print(\"BioBERT Confusion Matrix:\")\n",
    "\n",
    "# visualize the confusion matrix\n",
    "sns.heatmap(cm_bert, annot=True, cmap='Blues', fmt='g')\n",
    "plt.title('Confusion Matrix')\n",
    "plt.xlabel('Predicted Label')\n",
    "plt.ylabel('True Label')\n",
    "plt.show()"
   ]
  },
  {
   "cell_type": "code",
   "execution_count": 5,
   "metadata": {},
   "outputs": [],
   "source": [
    "test_df['bert_preds'] = y_pred"
   ]
  },
  {
   "cell_type": "code",
   "execution_count": 6,
   "metadata": {},
   "outputs": [],
   "source": [
    "test_df.loc[:, 'pmid':].to_csv(\"LitCovid_biobert.csv\")"
   ]
  },
  {
   "cell_type": "code",
   "execution_count": 7,
   "metadata": {},
   "outputs": [
    {
     "data": {
      "text/html": [
       "<div>\n",
       "<style scoped>\n",
       "    .dataframe tbody tr th:only-of-type {\n",
       "        vertical-align: middle;\n",
       "    }\n",
       "\n",
       "    .dataframe tbody tr th {\n",
       "        vertical-align: top;\n",
       "    }\n",
       "\n",
       "    .dataframe thead th {\n",
       "        text-align: right;\n",
       "    }\n",
       "</style>\n",
       "<table border=\"1\" class=\"dataframe\">\n",
       "  <thead>\n",
       "    <tr style=\"text-align: right;\">\n",
       "      <th></th>\n",
       "      <th>pmid</th>\n",
       "      <th>text_lg</th>\n",
       "      <th>topic</th>\n",
       "      <th>topic_int</th>\n",
       "      <th>bert_preds</th>\n",
       "    </tr>\n",
       "  </thead>\n",
       "  <tbody>\n",
       "    <tr>\n",
       "      <th>0</th>\n",
       "      <td>35949757</td>\n",
       "      <td>mucormycosis opportunistic fungal infection ca...</td>\n",
       "      <td>Case Report</td>\n",
       "      <td>2</td>\n",
       "      <td>2</td>\n",
       "    </tr>\n",
       "    <tr>\n",
       "      <th>1</th>\n",
       "      <td>36610390</td>\n",
       "      <td>nasal mucosa important initial site host defen...</td>\n",
       "      <td>Treatment</td>\n",
       "      <td>6</td>\n",
       "      <td>6</td>\n",
       "    </tr>\n",
       "    <tr>\n",
       "      <th>2</th>\n",
       "      <td>35148261</td>\n",
       "      <td>objective modification common ribonucleic acid...</td>\n",
       "      <td>Mechanism</td>\n",
       "      <td>3</td>\n",
       "      <td>3</td>\n",
       "    </tr>\n",
       "    <tr>\n",
       "      <th>3</th>\n",
       "      <td>32925503</td>\n",
       "      <td>oligosymptomatic patient initially exclusively...</td>\n",
       "      <td>Case Report</td>\n",
       "      <td>2</td>\n",
       "      <td>2</td>\n",
       "    </tr>\n",
       "    <tr>\n",
       "      <th>4</th>\n",
       "      <td>35690403</td>\n",
       "      <td>model propose increase access home dialysis tr...</td>\n",
       "      <td>Prevention</td>\n",
       "      <td>4</td>\n",
       "      <td>4</td>\n",
       "    </tr>\n",
       "    <tr>\n",
       "      <th>...</th>\n",
       "      <td>...</td>\n",
       "      <td>...</td>\n",
       "      <td>...</td>\n",
       "      <td>...</td>\n",
       "      <td>...</td>\n",
       "    </tr>\n",
       "    <tr>\n",
       "      <th>4273</th>\n",
       "      <td>33871421</td>\n",
       "      <td>purpose review despite significant progress un...</td>\n",
       "      <td>Long Covid</td>\n",
       "      <td>5</td>\n",
       "      <td>5</td>\n",
       "    </tr>\n",
       "    <tr>\n",
       "      <th>4274</th>\n",
       "      <td>32804803</td>\n",
       "      <td>background coronavirus disease covid-19 pandem...</td>\n",
       "      <td>Prevention</td>\n",
       "      <td>4</td>\n",
       "      <td>4</td>\n",
       "    </tr>\n",
       "    <tr>\n",
       "      <th>4275</th>\n",
       "      <td>36002399</td>\n",
       "      <td>people survive covid-19 experience negative pe...</td>\n",
       "      <td>Long Covid</td>\n",
       "      <td>5</td>\n",
       "      <td>5</td>\n",
       "    </tr>\n",
       "    <tr>\n",
       "      <th>4276</th>\n",
       "      <td>35252760</td>\n",
       "      <td>deadly novel coronavirus sars-cov-2 responsibl...</td>\n",
       "      <td>Diagnosis</td>\n",
       "      <td>1</td>\n",
       "      <td>1</td>\n",
       "    </tr>\n",
       "    <tr>\n",
       "      <th>4277</th>\n",
       "      <td>34924497</td>\n",
       "      <td>objective response spread sars-cov-2 state eme...</td>\n",
       "      <td>Prevention</td>\n",
       "      <td>4</td>\n",
       "      <td>4</td>\n",
       "    </tr>\n",
       "  </tbody>\n",
       "</table>\n",
       "<p>4278 rows × 5 columns</p>\n",
       "</div>"
      ],
      "text/plain": [
       "          pmid                                            text_lg  \\\n",
       "0     35949757  mucormycosis opportunistic fungal infection ca...   \n",
       "1     36610390  nasal mucosa important initial site host defen...   \n",
       "2     35148261  objective modification common ribonucleic acid...   \n",
       "3     32925503  oligosymptomatic patient initially exclusively...   \n",
       "4     35690403  model propose increase access home dialysis tr...   \n",
       "...        ...                                                ...   \n",
       "4273  33871421  purpose review despite significant progress un...   \n",
       "4274  32804803  background coronavirus disease covid-19 pandem...   \n",
       "4275  36002399  people survive covid-19 experience negative pe...   \n",
       "4276  35252760  deadly novel coronavirus sars-cov-2 responsibl...   \n",
       "4277  34924497  objective response spread sars-cov-2 state eme...   \n",
       "\n",
       "            topic  topic_int  bert_preds  \n",
       "0     Case Report          2           2  \n",
       "1       Treatment          6           6  \n",
       "2       Mechanism          3           3  \n",
       "3     Case Report          2           2  \n",
       "4      Prevention          4           4  \n",
       "...           ...        ...         ...  \n",
       "4273   Long Covid          5           5  \n",
       "4274   Prevention          4           4  \n",
       "4275   Long Covid          5           5  \n",
       "4276    Diagnosis          1           1  \n",
       "4277   Prevention          4           4  \n",
       "\n",
       "[4278 rows x 5 columns]"
      ]
     },
     "execution_count": 7,
     "metadata": {},
     "output_type": "execute_result"
    }
   ],
   "source": [
    "test_df.loc[:, 'pmid':]"
   ]
  },
  {
   "cell_type": "code",
   "execution_count": 8,
   "metadata": {},
   "outputs": [],
   "source": [
    "mask = test_df['topic_int'] != test_df['bert_preds']\n",
    "wrong_df = test_df[mask].loc[:, 'pmid':]"
   ]
  },
  {
   "cell_type": "code",
   "execution_count": 9,
   "metadata": {},
   "outputs": [
    {
     "data": {
      "text/html": [
       "<div>\n",
       "<style scoped>\n",
       "    .dataframe tbody tr th:only-of-type {\n",
       "        vertical-align: middle;\n",
       "    }\n",
       "\n",
       "    .dataframe tbody tr th {\n",
       "        vertical-align: top;\n",
       "    }\n",
       "\n",
       "    .dataframe thead th {\n",
       "        text-align: right;\n",
       "    }\n",
       "</style>\n",
       "<table border=\"1\" class=\"dataframe\">\n",
       "  <thead>\n",
       "    <tr style=\"text-align: right;\">\n",
       "      <th></th>\n",
       "      <th>pmid</th>\n",
       "      <th>text_lg</th>\n",
       "      <th>topic</th>\n",
       "      <th>topic_int</th>\n",
       "      <th>bert_preds</th>\n",
       "    </tr>\n",
       "  </thead>\n",
       "  <tbody>\n",
       "    <tr>\n",
       "      <th>40</th>\n",
       "      <td>35313451</td>\n",
       "      <td>background severe acute respiratory syndrome c...</td>\n",
       "      <td>Mechanism</td>\n",
       "      <td>3</td>\n",
       "      <td>6</td>\n",
       "    </tr>\n",
       "    <tr>\n",
       "      <th>96</th>\n",
       "      <td>32879033</td>\n",
       "      <td>objective aim measure severe acute respiratory...</td>\n",
       "      <td>Long Covid</td>\n",
       "      <td>5</td>\n",
       "      <td>1</td>\n",
       "    </tr>\n",
       "    <tr>\n",
       "      <th>103</th>\n",
       "      <td>34019443</td>\n",
       "      <td>rheumatology 23/answers rheumatoid arthritis f...</td>\n",
       "      <td>Long Covid</td>\n",
       "      <td>5</td>\n",
       "      <td>2</td>\n",
       "    </tr>\n",
       "    <tr>\n",
       "      <th>222</th>\n",
       "      <td>34201591</td>\n",
       "      <td>59-year-old male follicular lymphoma treat ant...</td>\n",
       "      <td>Long Covid</td>\n",
       "      <td>5</td>\n",
       "      <td>2</td>\n",
       "    </tr>\n",
       "    <tr>\n",
       "      <th>298</th>\n",
       "      <td>32343162</td>\n",
       "      <td>covid-19 pandemic greatly impact dermatology c...</td>\n",
       "      <td>Treatment</td>\n",
       "      <td>6</td>\n",
       "      <td>4</td>\n",
       "    </tr>\n",
       "    <tr>\n",
       "      <th>...</th>\n",
       "      <td>...</td>\n",
       "      <td>...</td>\n",
       "      <td>...</td>\n",
       "      <td>...</td>\n",
       "      <td>...</td>\n",
       "    </tr>\n",
       "    <tr>\n",
       "      <th>3913</th>\n",
       "      <td>34205809</td>\n",
       "      <td>background describe dynamic pandemic european ...</td>\n",
       "      <td>Prevention</td>\n",
       "      <td>4</td>\n",
       "      <td>0</td>\n",
       "    </tr>\n",
       "    <tr>\n",
       "      <th>4197</th>\n",
       "      <td>32275081</td>\n",
       "      <td>abstract outbreak severe acute respiratory syn...</td>\n",
       "      <td>Diagnosis</td>\n",
       "      <td>1</td>\n",
       "      <td>3</td>\n",
       "    </tr>\n",
       "    <tr>\n",
       "      <th>4218</th>\n",
       "      <td>36951276</td>\n",
       "      <td>background despite million covid-19 case unite...</td>\n",
       "      <td>Diagnosis</td>\n",
       "      <td>1</td>\n",
       "      <td>6</td>\n",
       "    </tr>\n",
       "    <tr>\n",
       "      <th>4224</th>\n",
       "      <td>36556121</td>\n",
       "      <td>covid-19 pandemic face healthcare landscape ch...</td>\n",
       "      <td>Diagnosis</td>\n",
       "      <td>1</td>\n",
       "      <td>4</td>\n",
       "    </tr>\n",
       "    <tr>\n",
       "      <th>4244</th>\n",
       "      <td>33039259</td>\n",
       "      <td>article withdraw request author(s and/or edito...</td>\n",
       "      <td>Prevention</td>\n",
       "      <td>4</td>\n",
       "      <td>5</td>\n",
       "    </tr>\n",
       "  </tbody>\n",
       "</table>\n",
       "<p>87 rows × 5 columns</p>\n",
       "</div>"
      ],
      "text/plain": [
       "          pmid                                            text_lg       topic  \\\n",
       "40    35313451  background severe acute respiratory syndrome c...   Mechanism   \n",
       "96    32879033  objective aim measure severe acute respiratory...  Long Covid   \n",
       "103   34019443  rheumatology 23/answers rheumatoid arthritis f...  Long Covid   \n",
       "222   34201591  59-year-old male follicular lymphoma treat ant...  Long Covid   \n",
       "298   32343162  covid-19 pandemic greatly impact dermatology c...   Treatment   \n",
       "...        ...                                                ...         ...   \n",
       "3913  34205809  background describe dynamic pandemic european ...  Prevention   \n",
       "4197  32275081  abstract outbreak severe acute respiratory syn...   Diagnosis   \n",
       "4218  36951276  background despite million covid-19 case unite...   Diagnosis   \n",
       "4224  36556121  covid-19 pandemic face healthcare landscape ch...   Diagnosis   \n",
       "4244  33039259  article withdraw request author(s and/or edito...  Prevention   \n",
       "\n",
       "      topic_int  bert_preds  \n",
       "40            3           6  \n",
       "96            5           1  \n",
       "103           5           2  \n",
       "222           5           2  \n",
       "298           6           4  \n",
       "...         ...         ...  \n",
       "3913          4           0  \n",
       "4197          1           3  \n",
       "4218          1           6  \n",
       "4224          1           4  \n",
       "4244          4           5  \n",
       "\n",
       "[87 rows x 5 columns]"
      ]
     },
     "execution_count": 9,
     "metadata": {},
     "output_type": "execute_result"
    }
   ],
   "source": [
    "wrong_df"
   ]
  },
  {
   "cell_type": "code",
   "execution_count": null,
   "metadata": {},
   "outputs": [],
   "source": []
  }
 ],
 "metadata": {
  "kernelspec": {
   "display_name": "Python 3",
   "language": "python",
   "name": "python3"
  },
  "language_info": {
   "codemirror_mode": {
    "name": "ipython",
    "version": 3
   },
   "file_extension": ".py",
   "mimetype": "text/x-python",
   "name": "python",
   "nbconvert_exporter": "python",
   "pygments_lexer": "ipython3",
   "version": "3.7.3"
  }
 },
 "nbformat": 4,
 "nbformat_minor": 2
}
