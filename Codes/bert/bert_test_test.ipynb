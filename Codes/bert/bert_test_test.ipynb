{
 "cells": [
  {
   "cell_type": "code",
   "execution_count": 1,
   "metadata": {},
   "outputs": [],
   "source": [
    "import pandas as pd\n",
    "import torch\n",
    "from torch.nn import CrossEntropyLoss\n",
    "from torch.utils.data import Dataset\n",
    "from transformers import BertTokenizer, BertForSequenceClassification\n",
    "from transformers import Trainer, TrainingArguments\n",
    "from sklearn.model_selection import train_test_split\n",
    "from sklearn.metrics import classification_report\n",
    "from sklearn.model_selection import StratifiedKFold\n",
    "from sklearn.metrics import accuracy_score, precision_recall_fscore_support\n",
    "%matplotlib inline\n",
    "from matplotlib import pyplot as plt\n",
    "import seaborn as sns\n",
    "from sklearn.metrics import confusion_matrix"
   ]
  },
  {
   "cell_type": "code",
   "execution_count": 2,
   "metadata": {},
   "outputs": [
    {
     "data": {
      "text/html": [
       "\n",
       "    <div>\n",
       "      \n",
       "      <progress value='535' max='535' style='width:300px; height:20px; vertical-align: middle;'></progress>\n",
       "      [535/535 11:06]\n",
       "    </div>\n",
       "    "
      ],
      "text/plain": [
       "<IPython.core.display.HTML object>"
      ]
     },
     "metadata": {},
     "output_type": "display_data"
    },
    {
     "name": "stdout",
     "output_type": "stream",
     "text": [
      "              precision    recall  f1-score   support\n",
      "\n",
      "           0       0.97      0.99      0.98       686\n",
      "           1       0.98      0.98      0.98       204\n",
      "           2       0.98      0.97      0.97       250\n",
      "           3       0.99      0.98      0.99       374\n",
      "           4       0.97      0.99      0.98       876\n",
      "           5       0.99      0.98      0.98      1133\n",
      "           6       0.98      0.97      0.98       755\n",
      "\n",
      "    accuracy                           0.98      4278\n",
      "   macro avg       0.98      0.98      0.98      4278\n",
      "weighted avg       0.98      0.98      0.98      4278\n",
      "\n"
     ]
    }
   ],
   "source": [
    "\n",
    "\n",
    "class AbstractDataset(Dataset):\n",
    "    def __init__(self, df, tokenizer, max_length):\n",
    "        self.df = df\n",
    "        self.tokenizer = tokenizer\n",
    "        self.max_length = max_length\n",
    "\n",
    "    def __len__(self):\n",
    "        return len(self.df)\n",
    "\n",
    "    def __getitem__(self, idx):\n",
    "        abstract = self.df.iloc[idx][\"abstract_lg\"]\n",
    "        topic = self.df.iloc[idx][\"topic_int\"]\n",
    "        encoding = self.tokenizer.encode_plus(\n",
    "            abstract,\n",
    "            add_special_tokens=True,\n",
    "            max_length=self.max_length,\n",
    "            padding=\"max_length\",\n",
    "            truncation=True,\n",
    "            return_token_type_ids=False,\n",
    "            return_attention_mask=True,\n",
    "            return_tensors=\"pt\",\n",
    "        )\n",
    "\n",
    "        return {\n",
    "            \"input_ids\": encoding[\"input_ids\"].flatten(),\n",
    "            \"attention_mask\": encoding[\"attention_mask\"].flatten(),\n",
    "            \"labels\": torch.tensor(topic, dtype=torch.long),\n",
    "        }\n",
    "\n",
    "test_df = pd.read_csv(\"test_bert.csv\")\n",
    "\n",
    "# Load the best model after training\n",
    "model = BertForSequenceClassification.from_pretrained(\"bert_model\")\n",
    "\n",
    "# Initialize the tokenizer\n",
    "tokenizer = BertTokenizer.from_pretrained(\"bert-base-uncased\")\n",
    "\n",
    "# Create the test dataset\n",
    "test_dataset = AbstractDataset(\n",
    "    df=test_df,\n",
    "    tokenizer=tokenizer,\n",
    "    max_length=512,\n",
    ")\n",
    "\n",
    "# Create the Trainer object\n",
    "training_args = TrainingArguments(\n",
    "    output_dir='./results',  # output directory\n",
    "    per_device_eval_batch_size=8,  # batch size for evaluation\n",
    ")\n",
    "trainer = Trainer(\n",
    "    model=model,\n",
    "    args=training_args,\n",
    "    eval_dataset=test_dataset,\n",
    ")\n",
    "\n",
    "# Evaluate the model on the test dataset\n",
    "eval_results = trainer.evaluate()\n",
    "\n",
    "# In[ ]:\n",
    "\n",
    "def get_predictions(model, tokenizer, dataset):\n",
    "    predictions = []\n",
    "    for item in dataset:\n",
    "        input_ids = item[\"input_ids\"].unsqueeze(0).to(model.device)\n",
    "        attention_mask = item[\"attention_mask\"].unsqueeze(0).to(model.device)\n",
    "        outputs = model(input_ids=input_ids, attention_mask=attention_mask)\n",
    "        logits = outputs.logits\n",
    "        predicted_label = logits.argmax(dim=1).item()\n",
    "        predictions.append(predicted_label)\n",
    "    return predictions\n",
    "\n",
    "\n",
    "y_true = test_df[\"topic_int\"].tolist()\n",
    "y_pred = get_predictions(model, tokenizer, test_dataset)\n",
    "\n",
    "print(classification_report(y_true, y_pred))\n",
    "\n"
   ]
  },
  {
   "cell_type": "code",
   "execution_count": 3,
   "metadata": {},
   "outputs": [
    {
     "name": "stdout",
     "output_type": "stream",
     "text": [
      "BERT Confusion Matrix:\n"
     ]
    },
    {
     "data": {
      "image/png": "[encoded data removed]",
      "text/plain": [
       "<Figure size 432x288 with 2 Axes>"
      ]
     },
     "metadata": {
      "needs_background": "light"
     },
     "output_type": "display_data"
    }
   ],
   "source": [
    "cm_bert = confusion_matrix(y_true, y_pred)\n",
    "print(\"BERT Confusion Matrix:\")\n",
    "\n",
    "# visualize the confusion matrix\n",
    "sns.heatmap(cm_bert, annot=True, cmap='Blues', fmt='g')\n",
    "plt.title('Confusion Matrix')\n",
    "plt.xlabel('Predicted Label')\n",
    "plt.ylabel('True Label')\n",
    "plt.show()"
   ]
  },
  {
   "cell_type": "code",
   "execution_count": null,
   "metadata": {},
   "outputs": [],
   "source": [
    "test_df['bert_preds'] = y_pred"
   ]
  },
  {
   "cell_type": "code",
   "execution_count": null,
   "metadata": {},
   "outputs": [],
   "source": [
    "test_df.to_csv(\"LitCovid_bert.csv\")"
   ]
  }
 ],
 "metadata": {
  "kernelspec": {
   "display_name": "Python 3 (ipykernel)",
   "language": "python",
   "name": "python3"
  },
  "language_info": {
   "codemirror_mode": {
    "name": "ipython",
    "version": 3
   },
   "file_extension": ".py",
   "mimetype": "text/x-python",
   "name": "python",
   "nbconvert_exporter": "python",
   "pygments_lexer": "ipython3",
   "version": "3.9.13"
  }
 },
 "nbformat": 4,
 "nbformat_minor": 2
}
